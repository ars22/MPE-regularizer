{
 "cells": [
  {
   "cell_type": "code",
   "execution_count": 2,
   "metadata": {
    "id": "PQcCQ7kyNX5E"
   },
   "outputs": [],
   "source": [
    "import tensorflow as tf\n",
    "import matplotlib.pyplot as plt\n",
    "import numpy as np\n",
    "import tensorflow_datasets as tfds\n",
    "import tqdm\n",
    "from tensorflow.keras.models import Model\n",
    "from sklearn.metrics import roc_auc_score\n",
    "from sklearn.calibration import calibration_curve\n",
    "from sklearn.decomposition import PCA\n",
    "from sklearn.preprocessing import StandardScaler\n",
    "import tensorflow_probability as tfp\n",
    "from scipy.ndimage import gaussian_filter1d"
   ]
  },
  {
   "cell_type": "code",
   "execution_count": 4,
   "metadata": {},
   "outputs": [],
   "source": [
    "ds_train, ds_test = out = tfds.load(\n",
    "    'imagenet2012',\n",
    "    split=['train', 'validation'],\n",
    "    data_dir='/amrith/tensorflow_datasets',\n",
    "    shuffle_files=True,\n",
    "    as_supervised=True,\n",
    "    with_info=False,\n",
    ")\n",
    "# ds_train = make_ds(ds_train)\n",
    "# ds_test = make_ds(ds_test)\n",
    "# iter_train = iter(ds_train)\n",
    "# iter_test = iter(ds_test)"
   ]
  },
  {
   "cell_type": "code",
   "execution_count": null,
   "metadata": {},
   "outputs": [],
   "source": [
    "gpus = tf.config.experimental.list_physical_devices('GPU')\n",
    "for gpu in gpus:\n",
    "  tf.config.experimental.set_memory_growth(gpu, True)"
   ]
  },
  {
   "cell_type": "markdown",
   "metadata": {
    "id": "jfsyNoi-HSo1"
   },
   "source": [
    "### cifar autoencoder + adv loss experiments"
   ]
  },
  {
   "cell_type": "code",
   "execution_count": null,
   "metadata": {},
   "outputs": [],
   "source": [
    "# helper functions to create TF datasets\n",
    "\n",
    "def normalize_img(image, label):\n",
    "    \"\"\"Normalizes images: `uint8` -> `float32`.\"\"\"\n",
    "    image = tf.cast(image, tf.float32) / 255.\n",
    "    # image = tf.reshape(image, (-1,))\n",
    "    return image, label\n",
    "\n",
    "\n",
    "def make_ds(ds):\n",
    "    ds = ds.map(\n",
    "        normalize_img, num_parallel_calls=tf.data.experimental.AUTOTUNE)\n",
    "    ds = ds.cache()\n",
    "    ds = ds.repeat()\n",
    "    ds = ds.shuffle(int(1e5))\n",
    "    ds = ds.batch(128)\n",
    "    ds = ds.prefetch(tf.data.experimental.AUTOTUNE)\n",
    "    return ds\n"
   ]
  },
  {
   "cell_type": "code",
   "execution_count": null,
   "metadata": {},
   "outputs": [],
   "source": [
    "# create dataset, iterate over it and train, return model and metrics\n",
    "class Trainer:\n",
    "    \n",
    "    def __init__(self, params):\n",
    "        self.params = params\n",
    "        print(f\"\\nRun training with params {self.params}\")\n",
    "        \n",
    "        # create CIFAR dataset and get iterators\n",
    "        ds_train, ds_test = out = tfds.load(\n",
    "            'cifar10',\n",
    "            split=['train', 'test'],\n",
    "            shuffle_files=True,\n",
    "            as_supervised=True,\n",
    "            with_info=False,\n",
    "        )\n",
    "        ds_train = make_ds(ds_train)\n",
    "        ds_test = make_ds(ds_test)\n",
    "        self.iter_train = iter(ds_train)\n",
    "        self.iter_test = iter(ds_test)\n",
    "\n",
    "        # define model\n",
    "        self.encoder = tf.keras.models.Sequential([\n",
    "            tf.keras.layers.Conv2D(256, (3, 3), activation='relu', input_shape=params['input_shape']),\n",
    "            tf.keras.layers.MaxPooling2D((2, 2)),\n",
    "            tf.keras.layers.Conv2D(128, (3, 3), activation='relu', padding='same',),\n",
    "            tf.keras.layers.Conv2D(128, (3, 3), activation='relu'),\n",
    "            tf.keras.layers.MaxPooling2D((2, 2)),\n",
    "            tf.keras.layers.Conv2D(64, (3, 3), activation='relu', padding='same',),\n",
    "            tf.keras.layers.Conv2D(32, (3, 3), activation='relu'),\n",
    "            tf.keras.layers.MaxPooling2D((2, 2)),\n",
    "            tf.keras.layers.Flatten(),\n",
    "        ])\n",
    "        self.decoder = tf.keras.models.Sequential([\n",
    "            tf.keras.layers.Dense(1024, activation='relu', input_shape=[self.encoder.output.shape[1]]),\n",
    "            tf.keras.layers.Reshape((4, 4, 64)),\n",
    "            tf.keras.layers.Conv2DTranspose(64, (3, 3), activation='relu'),\n",
    "            tf.keras.layers.UpSampling2D((2, 2)),\n",
    "            tf.keras.layers.Conv2DTranspose(64, (3, 3), activation='relu'),\n",
    "            tf.keras.layers.UpSampling2D((2, 2)),\n",
    "            tf.keras.layers.Conv2DTranspose(32, (3, 3), activation='relu'),\n",
    "            tf.keras.layers.Conv2DTranspose(3, (3, 3), activation='relu'),\n",
    "        ])\n",
    "        self.classifier_layer = tf.keras.models.Sequential([\n",
    "            tf.keras.layers.Dense(1024, activation='relu', input_shape=[self.encoder.output.shape[1]]),\n",
    "            tf.keras.layers.Dense(512, activation='relu'),\n",
    "            tf.keras.layers.Dense(self.params['n_classes'], activation='softmax')\n",
    "        ])\n",
    "        print('----Encoder----')\n",
    "        print(self.encoder.summary())\n",
    "        print('----Decoder----')\n",
    "        print(self.decoder.summary())\n",
    "        print('----Classifier----')\n",
    "        print(self.classifier_layer.summary())\n",
    "\n",
    "        # recon_model = encoder + decoder, classifier_model = encoder + classifier layer\n",
    "        self.recon_model = tf.keras.models.Sequential([self.encoder, self.decoder])\n",
    "        self.classifier_model = tf.keras.models.Sequential([self.encoder, self.classifier_layer])\n",
    "        \n",
    "        # define optimizer\n",
    "        self.optimizer = tf.keras.optimizers.Adam(learning_rate=self.params['lr'])\n",
    "        \n",
    "        # maintain history\n",
    "        self.history = []\n",
    "        \n",
    "\n",
    "\n",
    "    # define loss function\n",
    "    # computes loss given a model and X, Y\n",
    "    @tf.function\n",
    "    def loss_fn(self, X, Y):\n",
    "        X_enc = self.encoder(X)\n",
    "        # reconstruct\n",
    "        X_hat = self.decoder(X_enc)\n",
    "        bsize = X_hat.shape[0]\n",
    "        recon_loss =  tf.reduce_mean(\n",
    "                    tf.norm(tf.reshape(X_hat, (bsize, -1)) - tf.reshape(X, (bsize, -1)), axis=1))\n",
    "        # classify\n",
    "        Y_hat = self.classifier_layer(X_enc)\n",
    "        cls_loss = tf.keras.losses.SparseCategoricalCrossentropy(from_logits=False)(y_true=Y, y_pred=Y_hat)\n",
    "        accuracy = tf.reduce_mean(tf.cast(tf.argmax(Y_hat, axis=1) == Y, tf.float32)) * 100.\n",
    "        return cls_loss + recon_loss * params['lambda'], recon_loss, cls_loss, accuracy \n",
    "        \n",
    "\n",
    "    # define step function\n",
    "    # computes gradients and applies them\n",
    "    @tf.function\n",
    "    def step_fn(self, X_train, Y_train):\n",
    "        with tf.GradientTape() as tape:\n",
    "            total_loss, recon_loss, cls_loss, accuracy = self.loss_fn(X_train, Y_train)\n",
    "        trainable_variables = self.encoder.trainable_variables + self.decoder.trainable_variables + self.classifier_layer.trainable_variables\n",
    "        grads = tape.gradient(\n",
    "            total_loss, trainable_variables)\n",
    "        self.optimizer.apply_gradients(zip(grads, trainable_variables))\n",
    "        return total_loss, recon_loss, cls_loss, accuracy\n",
    "    \n",
    "    \n",
    "    def train(self):\n",
    "        \n",
    "        # loop over data n_iters times\n",
    "        for t in tqdm.trange(self.params['n_iters']):\n",
    "            train_total_loss, train_recon_loss, train_cls_loss, train_accuracy   = self.step_fn(*next(self.iter_train))\n",
    "            if t % 10 == 0:\n",
    "                test_total_loss, test_recon_loss, test_cls_loss, test_accuracy  = self.loss_fn(*next(self.iter_test))\n",
    "            self.history.append((train_total_loss.numpy(), test_total_loss.numpy(), \n",
    "                                 train_recon_loss.numpy(), test_recon_loss.numpy(), \n",
    "                                 train_cls_loss.numpy(), test_cls_loss.numpy(),\n",
    "                                 train_accuracy, test_accuracy))\n",
    "        self.history = np.array(self.history)"
   ]
  },
  {
   "cell_type": "code",
   "execution_count": null,
   "metadata": {},
   "outputs": [],
   "source": [
    "# plotting utils\n",
    "def plot_training_metrics(baseline_trainer, our_trainer=None, tags=['baseline', '']):\n",
    "    \n",
    "    trainer_vec = [baseline_trainer, our_trainer]\n",
    "    \n",
    "    c_vec = plt.rcParams['axes.prop_cycle'].by_key()['color']\n",
    "    plt.figure(figsize=(20, 3))\n",
    "    \n",
    "    # total loss\n",
    "    plt.subplot(1, 4, 1)\n",
    "    plt.title(\"Train/Test total loss\")\n",
    "    for idx, (c, trainer) in enumerate(zip(c_vec, trainer_vec)):\n",
    "        name = tags[idx]\n",
    "        if trainer is None:\n",
    "            continue\n",
    "        plt.plot(gaussian_filter1d(trainer.history[:, 0], 100), '-o', c=c, label='%s - train' % name, markevery=1000, markersize=10)\n",
    "        plt.plot(gaussian_filter1d(trainer.history[:, 1], 100), '-^', c=c, label='%s - val' % name, markevery=1000, markersize=10)\n",
    "    plt.grid()\n",
    "    plt.xlabel('iterations')\n",
    "    plt.ylabel('Total loss')\n",
    "    \n",
    "    # recon loss\n",
    "    plt.subplot(1, 4, 2)\n",
    "    plt.title(\"Train/Test recon loss\")\n",
    "    for idx, (c, trainer) in enumerate(zip(c_vec, trainer_vec)):\n",
    "        name = tags[idx]\n",
    "        if trainer is None:\n",
    "            continue\n",
    "        plt.plot(gaussian_filter1d(trainer.history[:, 2], 100), '-o', c=c, label='%s - train' % name, markevery=1000, markersize=10)\n",
    "        plt.plot(gaussian_filter1d(trainer.history[:, 3], 100), '-^', c=c, label='%s - val' % name, markevery=1000, markersize=10)\n",
    "    plt.grid()\n",
    "    plt.xlabel('iterations')\n",
    "    plt.ylabel('Recon loss')\n",
    "    \n",
    "    # cls loss\n",
    "    plt.subplot(1, 4, 3)\n",
    "    plt.title(\"Train/Test cls loss\")\n",
    "    for idx, (c, trainer) in enumerate(zip(c_vec, trainer_vec)):\n",
    "        name = tags[idx]\n",
    "        if trainer is None:\n",
    "            continue\n",
    "        plt.plot(gaussian_filter1d(trainer.history[:, 4], 100), '-o', c=c, label='%s - train' % name, markevery=1000, markersize=10)\n",
    "        plt.plot(gaussian_filter1d(trainer.history[:, 5], 100), '-^', c=c, label='%s - val' % name, markevery=1000, markersize=10)\n",
    "    plt.grid()\n",
    "    plt.xlabel('iterations')\n",
    "    plt.ylabel('Cls loss')\n",
    "    \n",
    "    # accuracy\n",
    "    plt.subplot(1, 4, 4)\n",
    "    plt.title(\"Train/Test accuracy\")\n",
    "    for idx, (c, trainer) in enumerate(zip(c_vec, trainer_vec)):\n",
    "        name = tags[idx]\n",
    "        if trainer is None:\n",
    "            continue\n",
    "        plt.plot(gaussian_filter1d(trainer.history[:, 6], 100), '-o', c=c, label='%s - train' % name, markevery=1000, markersize=10)\n",
    "        plt.plot(gaussian_filter1d(trainer.history[:, 7], 100), '-^', c=c, label='%s - val' % name, markevery=1000, markersize=10)\n",
    "    plt.grid()\n",
    "    plt.xlabel('iterations')\n",
    "    plt.ylabel('accuracy')\n",
    "    \n",
    "    \n",
    "    plt.legend()"
   ]
  },
  {
   "cell_type": "code",
   "execution_count": null,
   "metadata": {},
   "outputs": [],
   "source": [
    "# test recon loss\n",
    "params = {\n",
    "    'input_shape': (32, 32, 3),\n",
    "    'lr': 3e-4,\n",
    "    'n_iters': 15000,\n",
    "    'n_classes': 10,\n",
    "    'lambda': 0.05,\n",
    "}\n",
    "trainer = Trainer(params)\n",
    "trainer.train()\n",
    "plot_training_metrics(trainer)"
   ]
  },
  {
   "cell_type": "code",
   "execution_count": null,
   "metadata": {},
   "outputs": [],
   "source": [
    "trainer.history[0]"
   ]
  },
  {
   "cell_type": "code",
   "execution_count": null,
   "metadata": {},
   "outputs": [],
   "source": []
  },
  {
   "cell_type": "code",
   "execution_count": null,
   "metadata": {},
   "outputs": [],
   "source": [
    "imgs, _ = next(trainer.iter_train)"
   ]
  },
  {
   "cell_type": "code",
   "execution_count": null,
   "metadata": {},
   "outputs": [],
   "source": [
    "imgs[0].shape"
   ]
  },
  {
   "cell_type": "code",
   "execution_count": null,
   "metadata": {},
   "outputs": [],
   "source": [
    "plt.imshow(tf.cast(imgs[0] * 255., tf.uint8))"
   ]
  },
  {
   "cell_type": "code",
   "execution_count": null,
   "metadata": {},
   "outputs": [],
   "source": [
    "tf.norm(trainer.decoder(trainer.encoder(imgs))[0] - imgs[0])"
   ]
  },
  {
   "cell_type": "code",
   "execution_count": null,
   "metadata": {},
   "outputs": [],
   "source": [
    "plt.imshow(tf.cast(trainer.decoder(trainer.encoder(imgs))[0] * 255., tf.uint8))"
   ]
  },
  {
   "cell_type": "code",
   "execution_count": null,
   "metadata": {},
   "outputs": [],
   "source": []
  }
 ],
 "metadata": {
  "colab": {
   "collapsed_sections": [],
   "last_runtime": {
    "build_target": "//learning/deepmind/public/tools/ml_python:ml_notebook",
    "kind": "private"
   },
   "name": "predictive entropy.ipynb",
   "provenance": [
    {
     "file_id": "1JQbpV3_b5nJeSwR-vLJ-t9xoCu33COGH",
     "timestamp": 1630008033655
    },
    {
     "file_id": "1l0iWRfgfMvCsvz6Bqu-RcHKkeHEF48qb",
     "timestamp": 1628698030421
    }
   ]
  },
  "kernelspec": {
   "display_name": "Python 3",
   "language": "python",
   "name": "python3"
  },
  "language_info": {
   "codemirror_mode": {
    "name": "ipython",
    "version": 3
   },
   "file_extension": ".py",
   "mimetype": "text/x-python",
   "name": "python",
   "nbconvert_exporter": "python",
   "pygments_lexer": "ipython3",
   "version": "3.7.10"
  }
 },
 "nbformat": 4,
 "nbformat_minor": 4
}
